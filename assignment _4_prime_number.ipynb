{
 "cells": [
  {
   "cell_type": "code",
   "execution_count": 1,
   "metadata": {},
   "outputs": [
    {
     "name": "stdout",
     "output_type": "stream",
     "text": [
      "Please enter a number: 7\n",
      "7 is a prime number.\n"
     ]
    }
   ],
   "source": [
    "number = int(input(\"Please enter a number: \"))\n",
    "    \n",
    "if number == 1:\n",
    "    print(\"{} is not a prime number.\".format(number))\n",
    "    \n",
    "else:\n",
    "    \n",
    "    i = 2 \n",
    "    while i < number and number != 2 and number != 1:\n",
    "\n",
    "        if number % i == 0:\n",
    "            print(\"{} is not a prime number.\".format(number))\n",
    "            break\n",
    "        i += 1 \n",
    "        \n",
    "    else:\n",
    "            print(\"{} is a prime number.\".format(number))"
   ]
  },
  {
   "cell_type": "code",
   "execution_count": null,
   "metadata": {},
   "outputs": [],
   "source": []
  }
 ],
 "metadata": {
  "kernelspec": {
   "display_name": "Python 3",
   "language": "python",
   "name": "python3"
  },
  "language_info": {
   "codemirror_mode": {
    "name": "ipython",
    "version": 3
   },
   "file_extension": ".py",
   "mimetype": "text/x-python",
   "name": "python",
   "nbconvert_exporter": "python",
   "pygments_lexer": "ipython3",
   "version": "3.7.6"
  }
 },
 "nbformat": 4,
 "nbformat_minor": 4
}
