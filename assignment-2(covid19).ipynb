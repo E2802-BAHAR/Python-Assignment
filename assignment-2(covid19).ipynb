{
 "cells": [
  {
   "cell_type": "code",
   "execution_count": 7,
   "metadata": {},
   "outputs": [
    {
     "name": "stdout",
     "output_type": "stream",
     "text": [
      "Hello, Are you a cigarette addict older than 75 years old? Please answer Yes or No: Yes\n",
      "Do you have a severe chronic disease? Please answer Yes or No: Yes\n",
      "Is your immune system too weak? Please answer Yes or No: Yes\n",
      "You are in risky group\n"
     ]
    }
   ],
   "source": [
    "age = input(\"Hello, Are you a cigarette addict older than 75 years old? Please answer Yes or No: \")\n",
    "chronic = input(\"Do you have a severe chronic disease? Please answer Yes or No: \")\n",
    "immune = input(\"Is your immune system too weak? Please answer Yes or No: \")\n",
    "\n",
    "\n",
    "\n",
    "if (age == \"Yes\") or (chronic == \"Yes\") or (immune == \"Yes\"):\n",
    "    print(\"You are in risky group\")\n",
    "    \n",
    "else:\n",
    "    print(\"You are not in risky group\")\n",
    "\n"
   ]
  },
  {
   "cell_type": "code",
   "execution_count": null,
   "metadata": {},
   "outputs": [],
   "source": []
  },
  {
   "cell_type": "code",
   "execution_count": null,
   "metadata": {},
   "outputs": [],
   "source": []
  }
 ],
 "metadata": {
  "kernelspec": {
   "display_name": "Python 3",
   "language": "python",
   "name": "python3"
  },
  "language_info": {
   "codemirror_mode": {
    "name": "ipython",
    "version": 3
   },
   "file_extension": ".py",
   "mimetype": "text/x-python",
   "name": "python",
   "nbconvert_exporter": "python",
   "pygments_lexer": "ipython3",
   "version": "3.7.6"
  }
 },
 "nbformat": 4,
 "nbformat_minor": 4
}
