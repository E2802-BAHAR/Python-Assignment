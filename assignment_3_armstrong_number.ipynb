{
 "cells": [
  {
   "cell_type": "code",
   "execution_count": null,
   "metadata": {},
   "outputs": [],
   "source": [
    "num = input(\"Enter the number: \")\n",
    "\n",
    "if not num.isnumeric() : \n",
    "\n",
    "    print(\"It is an invalid entry. Don't use non-numeric, float, or negative values!\")\n",
    "    \n",
    "elif int(num) < 0 :\n",
    "    \n",
    "    print(\"It is an invalid entry. Don't use non-numeric, float, or negative values!\")\n",
    "        \n",
    "else :\n",
    "    sum = 0\n",
    "    a = int(num)\n",
    "    temp = a\n",
    "    while (temp > 0) : \n",
    "        digit = temp % 10 \n",
    "        sum += digit ** 3 \n",
    "        temp //= 10 \n",
    "    if (a == sum): \n",
    "        print(\"{} is an armstrong number.\".format(a)) \n",
    "    \n",
    "    else: \n",
    "        print(\"{} is not an armstrong number.\".format(a))"
   ]
  }
 ],
 "metadata": {
  "kernelspec": {
   "display_name": "Python 3",
   "language": "python",
   "name": "python3"
  },
  "language_info": {
   "codemirror_mode": {
    "name": "ipython",
    "version": 3
   },
   "file_extension": ".py",
   "mimetype": "text/x-python",
   "name": "python",
   "nbconvert_exporter": "python",
   "pygments_lexer": "ipython3",
   "version": "3.7.6"
  }
 },
 "nbformat": 4,
 "nbformat_minor": 4
}
