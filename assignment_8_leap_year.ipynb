{
 "cells": [
  {
   "cell_type": "code",
   "execution_count": 1,
   "metadata": {},
   "outputs": [
    {
     "name": "stdout",
     "output_type": "stream",
     "text": [
      "Please enter a year: 2019\n",
      "2019 is  not a leap year.\n"
     ]
    }
   ],
   "source": [
    "year =int(input(\"Please enter a year: \"))\n",
    "if year%4==0 and year%100!=0 or year%400==0:\n",
    "    print(\"{} is a leap year.\".format(year))\n",
    "else:\n",
    "    print(\"{} is  not a leap year.\".format(year))"
   ]
  }
 ],
 "metadata": {
  "kernelspec": {
   "display_name": "Python 3",
   "language": "python",
   "name": "python3"
  },
  "language_info": {
   "codemirror_mode": {
    "name": "ipython",
    "version": 3
   },
   "file_extension": ".py",
   "mimetype": "text/x-python",
   "name": "python",
   "nbconvert_exporter": "python",
   "pygments_lexer": "ipython3",
   "version": "3.7.6"
  }
 },
 "nbformat": 4,
 "nbformat_minor": 4
}
