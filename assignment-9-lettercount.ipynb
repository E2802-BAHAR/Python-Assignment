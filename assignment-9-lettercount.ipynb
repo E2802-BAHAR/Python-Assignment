{
 "cells": [
  {
   "cell_type": "code",
   "execution_count": 1,
   "metadata": {},
   "outputs": [
    {
     "name": "stdout",
     "output_type": "stream",
     "text": [
      "Please write a sentence.sentence is here\n"
     ]
    },
    {
     "data": {
      "text/plain": [
       "{'s': 2, 'e': 5, 'n': 2, 't': 1, 'c': 1, ' ': 2, 'i': 1, 'h': 1, 'r': 1}"
      ]
     },
     "execution_count": 1,
     "metadata": {},
     "output_type": "execute_result"
    }
   ],
   "source": [
    "cumle = input(\"Please write a sentence.\")\n",
    "sozluk = {}\n",
    "for i in cumle:\n",
    "    keys = sozluk.keys()\n",
    "    if i in keys:\n",
    "        sozluk[i] += 1\n",
    "    else:\n",
    "        sozluk[i] = 1\n",
    "sozluk"
   ]
  },
  {
   "cell_type": "code",
   "execution_count": null,
   "metadata": {},
   "outputs": [],
   "source": []
  }
 ],
 "metadata": {
  "kernelspec": {
   "display_name": "Python 3",
   "language": "python",
   "name": "python3"
  },
  "language_info": {
   "codemirror_mode": {
    "name": "ipython",
    "version": 3
   },
   "file_extension": ".py",
   "mimetype": "text/x-python",
   "name": "python",
   "nbconvert_exporter": "python",
   "pygments_lexer": "ipython3",
   "version": "3.7.6"
  }
 },
 "nbformat": 4,
 "nbformat_minor": 4
}
